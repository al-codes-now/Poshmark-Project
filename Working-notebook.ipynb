{
 "cells": [
  {
   "cell_type": "code",
   "execution_count": 1,
   "metadata": {},
   "outputs": [],
   "source": [
    "from selenium import webdriver\n",
    "import time\n",
    "import Login\n",
    "from webdriver_manager.chrome import ChromeDriverManager"
   ]
  },
  {
   "cell_type": "code",
   "execution_count": 2,
   "metadata": {},
   "outputs": [
    {
     "name": "stderr",
     "output_type": "stream",
     "text": [
      "\n",
      "\n",
      "====== WebDriver manager ======\n",
      "Current google-chrome version is 91.0.4472\n",
      "Get LATEST driver version for 91.0.4472\n",
      "Get LATEST driver version for 91.0.4472\n",
      "Trying to download new driver from https://chromedriver.storage.googleapis.com/91.0.4472.101/chromedriver_mac64.zip\n",
      "Driver has been saved in cache [/Users/alexandrabruno/.wdm/drivers/chromedriver/mac64/91.0.4472.101]\n"
     ]
    }
   ],
   "source": [
    "driver = webdriver.Chrome(ChromeDriverManager().install())"
   ]
  },
  {
   "cell_type": "markdown",
   "metadata": {},
   "source": [
    "**X Paths**"
   ]
  },
  {
   "cell_type": "code",
   "execution_count": 3,
   "metadata": {},
   "outputs": [
    {
     "name": "stderr",
     "output_type": "stream",
     "text": [
      "\n",
      "\n",
      "====== WebDriver manager ======\n",
      "Current google-chrome version is 91.0.4472\n",
      "Get LATEST driver version for 91.0.4472\n",
      "Driver [/Users/alexandrabruno/.wdm/drivers/chromedriver/mac64/91.0.4472.101/chromedriver] found in cache\n"
     ]
    }
   ],
   "source": [
    "driver = webdriver.Chrome(ChromeDriverManager().install())\n",
    "\n",
    "# Poshmark login site\n",
    "driver.get(\"https://poshmark.com/login\")\n",
    "time.sleep(2)\n",
    "\n",
    "# Here we are finding the username login and importing our username data \n",
    "driver.find_element_by_xpath('//*[@id=\"login_form_username_email\"]').send_keys(Login.username)\n",
    "time.sleep(2)\n",
    "\n",
    "# Here we are finding the password login and importing our password data\n",
    "driver.find_element_by_xpath('//*[@id=\"login_form_password\"]').send_keys(Login.password)\n",
    "time.sleep(2)\n",
    "\n",
    "# clicking to login after importing login info\n",
    "driver.find_element_by_xpath('//*[@id=\"email-login-form\"]/form/div[3]/button').click()\n",
    "\n",
    "# click settings options \n",
    "driver.find_element_by_xpath('//*[@id=\"app\"]/header/nav[1]/div/ul/li[5]/div/div[1]/div').click()"
   ]
  },
  {
   "cell_type": "code",
   "execution_count": 4,
   "metadata": {},
   "outputs": [],
   "source": [
    "# click settings options \n",
    "driver.find_element_by_xpath('//*[@id=\"app\"]/header/nav[1]/div/ul/li[5]/div/div[1]/div').click()"
   ]
  },
  {
   "cell_type": "code",
   "execution_count": 5,
   "metadata": {},
   "outputs": [],
   "source": [
    "# Getting into my closet\n",
    "driver.find_element_by_xpath('//*[@id=\"app\"]/header/nav[1]/div/ul/li[5]/div/div[2]/div/ul/li[1]/a').click()"
   ]
  },
  {
   "cell_type": "code",
   "execution_count": 6,
   "metadata": {},
   "outputs": [],
   "source": [
    "# clicking share button \n",
    "driver.find_element_by_xpath('//*[@id=\"content\"]/div/div[2]/div/div/section/div[2]/div[1]/div/div/div[2]/div[3]/i').click()"
   ]
  },
  {
   "cell_type": "code",
   "execution_count": 7,
   "metadata": {},
   "outputs": [],
   "source": [
    "# To my followers \n",
    "driver.find_element_by_xpath('//*[@id=\"app\"]/main/div[1]/div/div/div[2]/div[2]/div[1]/ul/li[1]/a/div/div').click()"
   ]
  },
  {
   "cell_type": "code",
   "execution_count": 11,
   "metadata": {},
   "outputs": [],
   "source": [
    "driver.close()"
   ]
  },
  {
   "cell_type": "code",
   "execution_count": null,
   "metadata": {},
   "outputs": [],
   "source": []
  }
 ],
 "metadata": {
  "kernelspec": {
   "display_name": "Python 3",
   "language": "python",
   "name": "python3"
  },
  "language_info": {
   "codemirror_mode": {
    "name": "ipython",
    "version": 3
   },
   "file_extension": ".py",
   "mimetype": "text/x-python",
   "name": "python",
   "nbconvert_exporter": "python",
   "pygments_lexer": "ipython3",
   "version": "3.8.3"
  },
  "toc": {
   "base_numbering": 1,
   "nav_menu": {},
   "number_sections": true,
   "sideBar": true,
   "skip_h1_title": false,
   "title_cell": "Table of Contents",
   "title_sidebar": "Contents",
   "toc_cell": false,
   "toc_position": {},
   "toc_section_display": true,
   "toc_window_display": false
  }
 },
 "nbformat": 4,
 "nbformat_minor": 4
}
